{
 "cells": [
  {
   "cell_type": "markdown",
   "metadata": {},
   "source": [
    "## Ticker Data Filitering \n",
    "\n",
    "#### Overview\n",
    "This file filters a tickers dataset, `Raw_NASDAQ_Listings.csv`, that includes all the symbols of companies currently being traded on NASDAQ. The `Raw_NASDAQ_Listings.csv` includes the folllowing columns: Symbol, Name, Last_Sale, Net_Change, %_Change, Market_Cap, Country, IPO_Year, Volume. This file filters out all rows including company subsidaries, all companies which have IPOed in the last two years, and companies that are not registered to the United States and saves it in a new csv: `Filtered_NASDAQ_Listings.csv`. The `Filtered_NASDAQ_Listings.csv` is used as the input for the `scrape_aggregate_data()`. The `scrape_aggregate_data()` function iterates through the Symbols column in `Filtered_NASDAQ_Listings.csv` and creates a new directory with a Symbol name and the starts scraping the data from Polygon.io 3 months at a time and then places the collection of 2 years worth of stock data in 3 month intervals into the Symbol's respective directory. However sice the Polygon.io API allows for only 5 API calls per minute with each API call limited to 50,000 trades every call, we can only scrape 3 months data every 20 seconds. Sicne our `Filtered_NASDAQ_Listings.csv` has a total of 2640 Symbols with each symbol requiring a total of 8 csv files including 3 months of data each we will need to scrape data for 2 minutes for each Symbol (upper bound). Since we collecting data for 2640 Symbols our total data scraping time will be 88 hours (upper bound). In order to make this more manageable we will be splitting the `Filtered_NASDAQ_Listings.csv` in half with each partner being responsible for collecting the data for half of the Symbols (1320 Symbols each). The `Filtered_NASDAQ_Listings.csv` was filtered to only include the Symbols column and the split into `Symbols_First_half.csv` and `Symbols_Second_half.csv`."
   ]
  },
  {
   "cell_type": "code",
   "execution_count": 2,
   "metadata": {},
   "outputs": [
    {
     "name": "stdout",
     "output_type": "stream",
     "text": [
      "     Symbol                                               Name Last_Sale  \\\n",
      "0         A             Agilent Technologies Inc. Common Stock  $151.28    \n",
      "1        AA                    Alcoa Corporation Common Stock    $39.83    \n",
      "2      AACG   ATA Creativity Global American Depositary Shares    $0.92    \n",
      "3      AACI            Armada Acquisition Corp. I Common Stock   $11.40    \n",
      "4     AACIU                    Armada Acquisition Corp. I Unit   $11.11    \n",
      "...     ...                                                ...       ...   \n",
      "7158   ZVRA               Zevra Therapeutics Inc. Common Stock    $4.80    \n",
      "7159   ZVSA             ZyVersa Therapeutics Inc. Common Stock    $5.29    \n",
      "7160    ZWS  Zurn Elkay Water Solutions Corporation Common ...   $32.56    \n",
      "7161   ZYME                        Zymeworks Inc. Common Stock    $9.00    \n",
      "7162   ZYXI                            Zynex Inc. Common Stock   $10.86    \n",
      "\n",
      "      Net_Change % Change    Market_Cap        Country  IPO_Year   Volume  \\\n",
      "0         3.5200    2.38%  4.433340e+10  United States    1999.0  1679903   \n",
      "1        -0.3300   -0.82%  7.151862e+09  United States    2016.0  5392018   \n",
      "2         0.0849   10.17%  2.943692e+07          China    2008.0    20583   \n",
      "3        -0.1000   -0.87%  0.000000e+00  United States    2021.0    39307   \n",
      "4        -0.4800   -4.14%  0.000000e+00  United States    2021.0     2700   \n",
      "...          ...      ...           ...            ...       ...      ...   \n",
      "7158     -0.0900   -1.84%  2.008968e+08  United States       NaN   191944   \n",
      "7159     -0.1700   -3.11%  4.017681e+06  United States    2022.0    55468   \n",
      "7160      0.0100    0.03%  5.623009e+09  United States    2012.0   655088   \n",
      "7161     -0.2400   -2.60%  6.363440e+08  United States       NaN   871820   \n",
      "7162      0.1800    1.69%  3.450785e+08  United States       NaN    94716   \n",
      "\n",
      "           Sector                                           Industry  \n",
      "0     Industrials   Biotechnology: Laboratory Analytical Instruments  \n",
      "1     Industrials                                           Aluminum  \n",
      "2     Real Estate                            Other Consumer Services  \n",
      "3         Finance                                       Blank Checks  \n",
      "4         Finance                                       Blank Checks  \n",
      "...           ...                                                ...  \n",
      "7158  Health Care         Biotechnology: Pharmaceutical Preparations  \n",
      "7159  Health Care         Biotechnology: Pharmaceutical Preparations  \n",
      "7160  Industrials                    Industrial Machinery/Components  \n",
      "7161  Health Care         Biotechnology: Pharmaceutical Preparations  \n",
      "7162  Health Care  Biotechnology: Electromedical & Electrotherape...  \n",
      "\n",
      "[7163 rows x 11 columns]\n"
     ]
    }
   ],
   "source": [
    "import pandas as pd\n",
    "\n",
    "df = pd.read_csv('Raw_NASDAQ_Listings.csv')\n",
    "\n",
    "print(df)"
   ]
  },
  {
   "cell_type": "code",
   "execution_count": 3,
   "metadata": {},
   "outputs": [
    {
     "name": "stdout",
     "output_type": "stream",
     "text": [
      "     Symbol                                               Name Last_Sale  \\\n",
      "0         A             Agilent Technologies Inc. Common Stock  $151.28    \n",
      "1        AA                    Alcoa Corporation Common Stock    $39.83    \n",
      "3      AACI            Armada Acquisition Corp. I Common Stock   $11.40    \n",
      "4     AACIU                    Armada Acquisition Corp. I Unit   $11.11    \n",
      "5     AACIW                 Armada Acquisition Corp. I Warrant    $0.13    \n",
      "...     ...                                                ...       ...   \n",
      "7158   ZVRA               Zevra Therapeutics Inc. Common Stock    $4.80    \n",
      "7159   ZVSA             ZyVersa Therapeutics Inc. Common Stock    $5.29    \n",
      "7160    ZWS  Zurn Elkay Water Solutions Corporation Common ...   $32.56    \n",
      "7161   ZYME                        Zymeworks Inc. Common Stock    $9.00    \n",
      "7162   ZYXI                            Zynex Inc. Common Stock   $10.86    \n",
      "\n",
      "      Net_Change % Change    Market_Cap        Country  IPO_Year   Volume  \\\n",
      "0         3.5200    2.38%  4.433340e+10  United States    1999.0  1679903   \n",
      "1        -0.3300   -0.82%  7.151862e+09  United States    2016.0  5392018   \n",
      "3        -0.1000   -0.87%  0.000000e+00  United States    2021.0    39307   \n",
      "4        -0.4800   -4.14%  0.000000e+00  United States    2021.0     2700   \n",
      "5        -0.0161  -11.01%  0.000000e+00  United States    2021.0     6134   \n",
      "...          ...      ...           ...            ...       ...      ...   \n",
      "7158     -0.0900   -1.84%  2.008968e+08  United States       NaN   191944   \n",
      "7159     -0.1700   -3.11%  4.017681e+06  United States    2022.0    55468   \n",
      "7160      0.0100    0.03%  5.623009e+09  United States    2012.0   655088   \n",
      "7161     -0.2400   -2.60%  6.363440e+08  United States       NaN   871820   \n",
      "7162      0.1800    1.69%  3.450785e+08  United States       NaN    94716   \n",
      "\n",
      "           Sector                                           Industry  \n",
      "0     Industrials   Biotechnology: Laboratory Analytical Instruments  \n",
      "1     Industrials                                           Aluminum  \n",
      "3         Finance                                       Blank Checks  \n",
      "4         Finance                                       Blank Checks  \n",
      "5         Finance                                       Blank Checks  \n",
      "...           ...                                                ...  \n",
      "7158  Health Care         Biotechnology: Pharmaceutical Preparations  \n",
      "7159  Health Care         Biotechnology: Pharmaceutical Preparations  \n",
      "7160  Industrials                    Industrial Machinery/Components  \n",
      "7161  Health Care         Biotechnology: Pharmaceutical Preparations  \n",
      "7162  Health Care  Biotechnology: Electromedical & Electrotherape...  \n",
      "\n",
      "[5505 rows x 11 columns]\n"
     ]
    }
   ],
   "source": [
    "# Drops all tickers that are not registered to the US\n",
    "df = df[df.Country == \"United States\"]\n",
    "\n",
    "print(df)"
   ]
  },
  {
   "cell_type": "code",
   "execution_count": 4,
   "metadata": {},
   "outputs": [
    {
     "name": "stdout",
     "output_type": "stream",
     "text": [
      "     Symbol                                               Name Last_Sale  \\\n",
      "0         A             Agilent Technologies Inc. Common Stock  $151.28    \n",
      "1        AA                    Alcoa Corporation Common Stock    $39.83    \n",
      "3      AACI            Armada Acquisition Corp. I Common Stock   $11.40    \n",
      "4     AACIU                    Armada Acquisition Corp. I Unit   $11.11    \n",
      "5     AACIW                 Armada Acquisition Corp. I Warrant    $0.13    \n",
      "...     ...                                                ...       ...   \n",
      "7152    ZTS                   Zoetis Inc. Class A Common Stock  $168.87    \n",
      "7153   ZUMZ                           Zumiez Inc. Common Stock   $18.51    \n",
      "7154    ZUO                    Zuora Inc. Class A Common Stock   $10.27    \n",
      "7157   ZVIA                     Zevia PBC Class A Common Stock    $1.08    \n",
      "7160    ZWS  Zurn Elkay Water Solutions Corporation Common ...   $32.56    \n",
      "\n",
      "      Net_Change % Change    Market_Cap        Country  IPO_Year   Volume  \\\n",
      "0         3.5200    2.38%  4.433340e+10  United States    1999.0  1679903   \n",
      "1        -0.3300   -0.82%  7.151862e+09  United States    2016.0  5392018   \n",
      "3        -0.1000   -0.87%  0.000000e+00  United States    2021.0    39307   \n",
      "4        -0.4800   -4.14%  0.000000e+00  United States    2021.0     2700   \n",
      "5        -0.0161  -11.01%  0.000000e+00  United States    2021.0     6134   \n",
      "...          ...      ...           ...            ...       ...      ...   \n",
      "7152      0.9600    0.57%  7.705456e+10  United States    2013.0  2050060   \n",
      "7153      0.3800    2.10%  3.671125e+08  United States    2005.0   164435   \n",
      "7154      0.1000    0.98%  1.499420e+09  United States    2018.0   909498   \n",
      "7157      0.1510   16.25%  7.808169e+07  United States    2021.0   298297   \n",
      "7160      0.0100    0.03%  5.623009e+09  United States    2012.0   655088   \n",
      "\n",
      "                      Sector                                          Industry  \n",
      "0                Industrials  Biotechnology: Laboratory Analytical Instruments  \n",
      "1                Industrials                                          Aluminum  \n",
      "3                    Finance                                      Blank Checks  \n",
      "4                    Finance                                      Blank Checks  \n",
      "5                    Finance                                      Blank Checks  \n",
      "...                      ...                                               ...  \n",
      "7152             Health Care        Biotechnology: Pharmaceutical Preparations  \n",
      "7153  Consumer Discretionary                    Clothing/Shoe/Accessory Stores  \n",
      "7154              Technology           Computer Software: Prepackaged Software  \n",
      "7157        Consumer Staples               Beverages (Production/Distribution)  \n",
      "7160             Industrials                   Industrial Machinery/Components  \n",
      "\n",
      "[2640 rows x 11 columns]\n"
     ]
    }
   ],
   "source": [
    "# Drops all tickers that IPOed in the last 2 years (non-inclusive)\n",
    "df = df[df.IPO_Year < 2022]\n",
    "\n",
    "print(df)"
   ]
  },
  {
   "cell_type": "code",
   "execution_count": 11,
   "metadata": {},
   "outputs": [
    {
     "name": "stdout",
     "output_type": "stream",
     "text": [
      "Filtered DataFrame saved as Filtered_NASDAQ_Listings.csv in the current directory: tickers_dataset\n"
     ]
    }
   ],
   "source": [
    "# Now the filtered data can be saved as a new csv called Filtered_NASDAQ_Listings.csv\n",
    "file_name = \"Filtered_NASDAQ_Listings.csv\"\n",
    "df.to_csv(file_name, index=True)\n",
    "\n",
    "print(f\"Filtered DataFrame saved as {file_name} in the current directory: tickers_dataset\")"
   ]
  },
  {
   "cell_type": "code",
   "execution_count": 15,
   "metadata": {},
   "outputs": [
    {
     "name": "stdout",
     "output_type": "stream",
     "text": [
      "     Symbol\n",
      "0         A\n",
      "1        AA\n",
      "2      AACI\n",
      "3     AACIU\n",
      "4     AACIW\n",
      "...     ...\n",
      "2635    ZTS\n",
      "2636   ZUMZ\n",
      "2637    ZUO\n",
      "2638   ZVIA\n",
      "2639    ZWS\n",
      "\n",
      "[2640 rows x 1 columns]\n",
      "Filtered DataFrame saved as Symbols_df in the current directory: tickers_dataset\n"
     ]
    }
   ],
   "source": [
    "# Since Polygon.io only allows for 5 API calls per minute and each API is allowed 50,000 ticker \n",
    "# datums we unable to stream all of the minute by minute data for one ticker at a time  \n",
    "\n",
    "\n",
    "df = pd.read_csv('Filtered_NASDAQ_Listings.csv')\n",
    "\n",
    "# Filters df to only include symbol columns and index\n",
    "symbols = \"Symbols_df\"\n",
    "symbols_df = df[[\"Symbol\"]]\n",
    "print(symbols_df)\n",
    "symbols_df.to_csv(symbols, index=True)\n",
    "print(f\"Filtered DataFrame saved as {symbols} in the current directory: tickers_dataset\")"
   ]
  },
  {
   "cell_type": "code",
   "execution_count": 9,
   "metadata": {},
   "outputs": [
    {
     "name": "stdout",
     "output_type": "stream",
     "text": [
      "First half of the DataFrame:\n",
      "     Symbol\n",
      "0         A\n",
      "1        AA\n",
      "2      AACI\n",
      "3     AACIU\n",
      "4     AACIW\n",
      "...     ...\n",
      "1315   JRSH\n",
      "1316   JSPR\n",
      "1317  JSPRW\n",
      "1318    JVA\n",
      "1319    JXN\n",
      "\n",
      "[1320 rows x 1 columns]\n",
      "\n",
      "Second half of the DataFrame:\n",
      "     Symbol\n",
      "1320   JYNT\n",
      "1321     KA\n",
      "1322    KAI\n",
      "1323   KALA\n",
      "1324    KAR\n",
      "...     ...\n",
      "2635    ZTS\n",
      "2636   ZUMZ\n",
      "2637    ZUO\n",
      "2638   ZVIA\n",
      "2639    ZWS\n",
      "\n",
      "[1320 rows x 1 columns]\n"
     ]
    }
   ],
   "source": [
    "# Splitting the symbols_df in half for each partner to process\n",
    "midpoint = len(symbols_df) // 2\n",
    "df_first_half = symbols_df.iloc[:midpoint].copy()\n",
    "df_second_half = symbols_df.iloc[midpoint:].copy()\n",
    "\n",
    "# First half of the symbols_df\n",
    "print(\"First half of the DataFrame:\")\n",
    "print(df_first_half)\n",
    "\n",
    "# Second half of the symbols_df\n",
    "print(\"\\nSecond half of the DataFrame:\")\n",
    "print(df_second_half)"
   ]
  },
  {
   "cell_type": "code",
   "execution_count": 10,
   "metadata": {},
   "outputs": [
    {
     "name": "stdout",
     "output_type": "stream",
     "text": [
      "Filtered DataFrame saved as Symbols_First_Half.csv in the current directory: tickers_dataset\n",
      "Filtered DataFrame saved as Symbols_Second_Half.csv in the current directory: tickers_dataset\n"
     ]
    }
   ],
   "source": [
    "# Save each half of the symbols_df as a csv\n",
    "# First half of the symbols_df saved as Symbols_First_Half.csv\n",
    "symbols_first_half = \"Symbols_First_Half.csv\"\n",
    "df_first_half.to_csv(symbols_first_half , index=True)\n",
    "print(f\"Filtered DataFrame saved as {symbols_first_half} in the current directory: tickers_dataset\")\n",
    "\n",
    "# Second half of the symbols_df saved as Symbols_Second_Half.csv\n",
    "symbols_second_half = \"Symbols_Second_Half.csv\"\n",
    "df_second_half.to_csv(symbols_second_half , index=True)\n",
    "print(f\"Filtered DataFrame saved as {symbols_second_half} in the current directory: tickers_dataset\")"
   ]
  }
 ],
 "metadata": {
  "kernelspec": {
   "display_name": "Python 3",
   "language": "python",
   "name": "python3"
  },
  "language_info": {
   "codemirror_mode": {
    "name": "ipython",
    "version": 3
   },
   "file_extension": ".py",
   "mimetype": "text/x-python",
   "name": "python",
   "nbconvert_exporter": "python",
   "pygments_lexer": "ipython3",
   "version": "3.11.4"
  }
 },
 "nbformat": 4,
 "nbformat_minor": 2
}
